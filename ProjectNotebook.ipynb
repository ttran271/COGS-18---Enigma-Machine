{
 "cells": [
  {
   "cell_type": "markdown",
   "metadata": {},
   "source": [
    "# Project Description"
   ]
  },
  {
   "cell_type": "markdown",
   "metadata": {},
   "source": [
    "For Assignment 2 of this quarter, we were given opportunity to explore cryptography and the algorithm behind how that works. I decided that for my project, I will be attempting to recreate one of the most famous crypto machines that helped to save millions of people during World War II, the Enigma Machine.\n",
    "\n",
    "The Enigma Machine consists of three rotors, called Inner rotor, Middle rotor, and Outer rotor, each of which contains a different sequence of the normal alphabet. Every time a letter is encrypted, the Inner rotor will shift its sequence to the right by 1 letter, therefore altering the sequence. After the Inner rotor has rotated for 26 times, meaning that it has returned to its original sequence, the Middle rotor will then shift its sequence by 1 letter, and when the Middle rotor has rotated 26 times, the Outer rotor will shift, and the shifting continues the message is fully encrypted. Before encrypting, each rotor can be set to shift forward as many times as the user wants to, effectively creating a unique set of sequences based on how much each rotor is shifted. Note that for decrypting, the same process is also applied.\n",
    "\n",
    "To encrypt a letter, we will first find the position (index) of the letter on the Inner rotor. Using that position, we will then look at the Outer rotor and take the character that is at that position. After that, we will look for that character on the Middle rotor, find its index, and finally, our encrypted letter will be the letter at the index we just found from the Middle rotor, but on the Outer rotor.\n",
    "\n",
    "Here's an example:\n",
    "\n",
    "Inner rotor is:  F H U N A B V Y X W K D G C M P J T R L Z O S Q E I \n",
    "\n",
    "Middle rotor is: Q A Y G F T Z H B W C X N D E L P S J M K V O I R U \n",
    "\n",
    "Outer rotor is:  S G D O T N K Y M C A I H U F W X P L E Z Q B R V J\n",
    "\n",
    "Let say we want to encrypt the letter 'A'. We will find the index of letter 'A' on the Inner rotor, which is 4 in this case (zero-indexing). We will reflect onto the Outer rotor, and our letter for that same index is 'T'. Now we will look for 'T' on the Middle rotor, and its index is 5. Finally, our encrypted letter will at index 5 of the Outer rotor, which is 'N'. Afterward, the Inner rotor will shift 1 time, becoming:\n",
    "\n",
    "I F H U N A B V Y X W K D G C M P J T R L Z O S Q E\n",
    "\n",
    "The decrypting process is essentially the reverse process of encrypting, where we start on the Outer rotor and end on the Inner rotor instead.\n",
    "\n"
   ]
  },
  {
   "cell_type": "code",
   "execution_count": 1,
   "metadata": {},
   "outputs": [],
   "source": [
    "from my_module.functions import encrypt, decrypt, initial_setup\n",
    "from my_module.classes import EnigmaMachine"
   ]
  },
  {
   "cell_type": "code",
   "execution_count": 2,
   "metadata": {},
   "outputs": [
    {
     "name": "stdout",
     "output_type": "stream",
     "text": [
      "Inner rotor is:  N J O Y C X H M B V R G E Z P F S W I A T Q D U K L \n",
      "\n",
      "Middle rotor is:  U T A V Q Y H W M K L D R O J F C G N B S Z I X E P \n",
      "\n",
      "Outer rotor is:  R W U Q Z O B L X I J V S G Y M P D E N T A K F H C \n",
      "\n"
     ]
    }
   ],
   "source": [
    "my_enigma = EnigmaMachine()\n",
    "my_enigma.create_rotors()\n",
    "my_enigma.show_rotors()"
   ]
  },
  {
   "cell_type": "code",
   "execution_count": 3,
   "metadata": {},
   "outputs": [
    {
     "name": "stdout",
     "output_type": "stream",
     "text": [
      "AZDE 18 IU SDW VILN LVKIEH MEOTD.\n"
     ]
    }
   ],
   "source": [
    "my_input = \"COGS 18 IS THE BEST PYTHON CLASS.\"\n",
    "my_output = encrypt(my_input, my_enigma)\n",
    "print(my_output)"
   ]
  },
  {
   "cell_type": "code",
   "execution_count": 4,
   "metadata": {},
   "outputs": [
    {
     "name": "stdout",
     "output_type": "stream",
     "text": [
      "ZGXM 18 FB CXQ WFRJ RWUFME IMADX.\n"
     ]
    }
   ],
   "source": [
    "print(encrypt(my_input, my_enigma, 24, 2, 4))"
   ]
  },
  {
   "cell_type": "code",
   "execution_count": 5,
   "metadata": {},
   "outputs": [
    {
     "name": "stdout",
     "output_type": "stream",
     "text": [
      "COGS 18 IS THE BEST PYTHON CLASS.\n"
     ]
    }
   ],
   "source": [
    "print(decrypt(my_output, my_enigma))"
   ]
  },
  {
   "cell_type": "markdown",
   "metadata": {},
   "source": [
    "#### Extra Credit (*optional*)\n",
    "\n",
    "Replace all of this text with a brief explanation (~3 sentences) of: \n",
    "1. Before taking COGS 18, I had very little exposure with Python. I took a C programming during the Winter quarter, and even though I learned a lot in that class, the transition to Python was quite difficult for me because many concepts in Python are very abstracted.\n",
    "2. For this project, I think I was able to challenged myself a wholelot since the algorithm for the encryption and decryption were quite complicated, especially the rotating of the rotors after each letter. And instead of implementing everything inside a single class, I decided to separate the machine and the encrypt/decrypt process into 2 parts, essentially creating an object-action relationship."
   ]
  }
 ],
 "metadata": {
  "kernelspec": {
   "display_name": "Python 3",
   "language": "python",
   "name": "python3"
  },
  "language_info": {
   "codemirror_mode": {
    "name": "ipython",
    "version": 3
   },
   "file_extension": ".py",
   "mimetype": "text/x-python",
   "name": "python",
   "nbconvert_exporter": "python",
   "pygments_lexer": "ipython3",
   "version": "3.8.6"
  }
 },
 "nbformat": 4,
 "nbformat_minor": 2
}
